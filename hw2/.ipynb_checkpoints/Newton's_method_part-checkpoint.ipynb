{
 "cells": [
  {
   "cell_type": "code",
   "execution_count": 185,
   "metadata": {},
   "outputs": [],
   "source": [
    "%matplotlib inline\n",
    "\n",
    "import numpy as np\n",
    "import matplotlib\n",
    "import matplotlib.pyplot as plt\n",
    "\n",
    "kwargs = {'linewidth' : 3.5}\n",
    "font = {'weight' : 'normal', 'size'   : 24}\n"
   ]
  },
  {
   "cell_type": "code",
   "execution_count": 191,
   "metadata": {},
   "outputs": [],
   "source": [
    "def sigmoid(x): \n",
    "    return 1./(1.+np.exp(-x))\n",
    "\n",
    "def logistic_model(x,theta):\n",
    "    '''Defining the logistic model'''\n",
    "    scores = x.dot(theta)\n",
    "    return sigmoid(scores)\n",
    "\n",
    "def theta_lambda(theta):\n",
    "    '''It would be handy to return the theta for the regularization part\n",
    "       with the first term setting to zero'''\n",
    "    thetaL = np.zeros((theta.shape))\n",
    "    thetaL[1:]= theta[1:]\n",
    "    return thetaL\n",
    "\n",
    "def crossEntropy(x,y,theta, L = 0.07):\n",
    "    '''Defining the cross entropy function'''\n",
    "    thetaL = theta_lambda(theta)\n",
    "    h_theta = logistic_model(x, theta)\n",
    "    delta1, delta2 = np.log(h_theta), np.log(1-h_theta)\n",
    "    return 1/len(y)*(-(delta1.dot(y)+delta2.dot(1-y))+ L*0.5* thetaL.dot(thetaL))    \n",
    "\n",
    "def crossEntropyGradient(x,y,theta, L = 0.07):\n",
    "    thetaL = theta_lambda(theta)\n",
    "    h_theta = logistic_model(x, theta)\n",
    "    error = h_theta -y\n",
    "    return (np.matmul(XX.T, error)+L*thetaL)/len(y)\n",
    "\n",
    "def crossEntropyHessian(x,y,theta, L = 0.07):\n",
    "    m, n = x.shape\n",
    "    h_theta = logistic_model(x, theta)\n",
    "    I =np.identity(n)\n",
    "    I[0,0] = 0\n",
    "    S  = np.diag(h_theta *(1-h_theta))\n",
    "    return (x.T.dot(S.dot(x))+ L* I)/m\n",
    "    "
   ]
  },
  {
   "cell_type": "code",
   "execution_count": 158,
   "metadata": {},
   "outputs": [],
   "source": [
    "gradient = lambda theta: crossEntropyGradient(XX, y, theta)\n",
    "hessian = lambda theta: crossEntropyHessian(XX, y, theta)"
   ]
  },
  {
   "cell_type": "code",
   "execution_count": 188,
   "metadata": {},
   "outputs": [],
   "source": [
    "def newton_descent(init, step_sizes, grad, hessian):\n",
    "    new_theta = [init]\n",
    "    for step in step_sizes:\n",
    "        Hinv = np.linalg.pinv(hessian(new_theta[-1]))\n",
    "        new_theta.append(new_theta[-1] - step * Hinv.dot(grad(new_theta[-1])))\n",
    "    return new_theta\n",
    "\n",
    "def gradient_descent(init, step_sizes, grad):    \n",
    "    new_theta = [init]\n",
    "    for step in step_sizes:\n",
    "        new_theta.append(new_theta[-1] - step * grad(new_theta[-1]))\n",
    "    return new_theta"
   ]
  },
  {
   "cell_type": "code",
   "execution_count": 201,
   "metadata": {},
   "outputs": [],
   "source": [
    "theta_newton = newton_descent(theta, np.ones(5), gradient, hessian)\n",
    "theta_gd = gradient_descent(theta, np.ones(5), gradient)"
   ]
  },
  {
   "cell_type": "code",
   "execution_count": 202,
   "metadata": {},
   "outputs": [
    {
     "data": {
      "image/png": "[encoded data removed]",
      "text/plain": [
       "<Figure size 576x576 with 1 Axes>"
      ]
     },
     "metadata": {
      "needs_background": "light"
     },
     "output_type": "display_data"
    }
   ],
   "source": [
    "def error_plot2(ys1, ys2, yscale='log'):\n",
    "    plt.figure(figsize=(8, 8))\n",
    "    plt.xlabel('Step')\n",
    "    plt.ylabel('Error')\n",
    "    plt.yscale(yscale)\n",
    "    plt.plot(range(len(ys1)), ys1, **kwargs, label='GD')\n",
    "    plt.plot(range(len(ys2)), ys2, **kwargs, label='Newton')\n",
    "    plt.legend()\n",
    "    \n",
    "\n",
    "error_plot2([crossEntropy(XX,y,theta, L = 0.07) for theta in theta_gd], \n",
    "            [crossEntropy(XX,y,theta, L = 0.07) for theta in theta_newton])"
   ]
  },
  {
   "cell_type": "code",
   "execution_count": null,
   "metadata": {},
   "outputs": [],
   "source": [
    "def main():\n",
    "    #Defining auxiliary variables\n",
    "    X = np.array([[0,3],[1,3],[0,1],[1,1]])\n",
    "    y = np.array([1,1,0,0])\n",
    "    theta = np.array([0,  -2, 1])\n",
    "    ones = np.ones((X.shape[0],1), dtype = int)\n",
    "    theta_lambda = np.zeros((theta.shape),dtype =int)\n",
    "    XX = np.hstack((ones, X))\n",
    "    \n",
    "    step_sizes = np.ones(3)\n",
    "    theta_newton = newton_descent(theta, , gradient, hessian)\n",
    "    theta_gd = gradient_descent(theta, np.ones(5), gradient)\n",
    "    error_plot2([crossEntropy(XX,y,theta, L = 0.07) for theta in theta_gd], \n",
    "            [crossEntropy(XX,y,theta, L = 0.07) for theta in theta_newton])\n",
    "    print(\"Newton Method's theta\")\n",
    "    print(theta_newton)\n",
    "    print(\"Gradient Descrent's theta\")\n",
    "    print(theta_gd)"
   ]
  }
 ],
 "metadata": {
  "kernelspec": {
   "display_name": "Python 3",
   "language": "python",
   "name": "python3"
  },
  "language_info": {
   "codemirror_mode": {
    "name": "ipython",
    "version": 3
   },
   "file_extension": ".py",
   "mimetype": "text/x-python",
   "name": "python",
   "nbconvert_exporter": "python",
   "pygments_lexer": "ipython3",
   "version": "3.7.5"
  }
 },
 "nbformat": 4,
 "nbformat_minor": 2
}
