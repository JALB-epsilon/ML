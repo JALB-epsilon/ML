{
 "cells": [
  {
   "cell_type": "code",
   "execution_count": 1,
   "metadata": {},
   "outputs": [],
   "source": [
    "%matplotlib inline\n",
    "\n",
    "import numpy as np\n",
    "import matplotlib.pyplot as plt\n"
   ]
  },
  {
   "cell_type": "code",
   "execution_count": 2,
   "metadata": {},
   "outputs": [],
   "source": [
    "def sigmoid(x):\n",
    "    \"\"\"Sigmoid function.\"\"\"\n",
    "    return 1./(1.+np.exp(-x))\n"
   ]
  },
  {
   "cell_type": "code",
   "execution_count": 3,
   "metadata": {},
   "outputs": [],
   "source": [
    "def logistic_model(weights, data):\n",
    "    return sigmoid(data.dot(weights))\n",
    "\n",
    "def log_likelihood(weights, data, labels):\n",
    "    scores = np.dot(data, weights)\n",
    "    return -np.mean(labels*scores - np.log(1 + np.exp(scores)))\n",
    "\n",
    "def log_likelihood_gradient(weights, data, labels):\n",
    "    predictions = logistic_model(weights, data)  \n",
    "    return -data.T.dot(labels - predictions)/len(data)\n",
    "\n",
    "def log_likelihood_hessian(weights, data, labels):\n",
    "    predictions = logistic_model(weights, data)\n",
    "    diag = np.diag(predictions * (1 - predictions))\n",
    "    return data.T.dot(diag.dot(data))/len(data)"
   ]
  },
  {
   "cell_type": "code",
   "execution_count": 4,
   "metadata": {},
   "outputs": [],
   "source": [
    "X = np.array([[0,3],[1,3],[0,1],[1,1]])\n",
    "y = np.array([1,1,0,0])\n",
    "\n",
    "data = np.hstack((np.ones((X.shape[0], 1), dtype= int), X))\n",
    "m,n  = data.shape\n",
    "theta = np.random.normal(0, 1, n)\n",
    "\n",
    "gradient = lambda w: log_likelihood_gradient(w, data, y)\n",
    "hessian = lambda w: log_likelihood_hessian(w, data, y)\n",
    "\n",
    "init = np.zeros(n)"
   ]
  },
  {
   "cell_type": "code",
   "execution_count": 5,
   "metadata": {},
   "outputs": [],
   "source": [
    "def newton_descent(init, step_sizes, grad, hessian):\n",
    "    X = [init]\n",
    "    for step in step_sizes:\n",
    "        Hinv = np.linalg.pinv(hessian(X[-1]))\n",
    "        X.append(X[-1] - step * Hinv.dot(grad(X[-1])))\n",
    "    return X\n",
    "\n",
    "def gradient_descent(init, step_sizes, grad):    \n",
    "    X = [init]\n",
    "    for step in step_sizes:\n",
    "        X.append(X[-1] - step * grad(X[-1]))\n",
    "    return X"
   ]
  },
  {
   "cell_type": "code",
   "execution_count": 6,
   "metadata": {},
   "outputs": [],
   "source": [
    "ws_newton = newton_descent(init, np.ones(1), gradient, hessian)"
   ]
  },
  {
   "cell_type": "code",
   "execution_count": 7,
   "metadata": {},
   "outputs": [
    {
     "data": {
      "text/plain": [
       "[array([0., 0., 0.]),\n",
       " array([-4.00000000e+00,  1.69409199e-15,  2.00000000e+00])]"
      ]
     },
     "execution_count": 7,
     "metadata": {},
     "output_type": "execute_result"
    }
   ],
   "source": [
    "ws_newton"
   ]
  }
 ],
 "metadata": {
  "kernelspec": {
   "display_name": "Python 3",
   "language": "python",
   "name": "python3"
  },
  "language_info": {
   "codemirror_mode": {
    "name": "ipython",
    "version": 3
   },
   "file_extension": ".py",
   "mimetype": "text/x-python",
   "name": "python",
   "nbconvert_exporter": "python",
   "pygments_lexer": "ipython3",
   "version": "3.7.5"
  }
 },
 "nbformat": 4,
 "nbformat_minor": 2
}
