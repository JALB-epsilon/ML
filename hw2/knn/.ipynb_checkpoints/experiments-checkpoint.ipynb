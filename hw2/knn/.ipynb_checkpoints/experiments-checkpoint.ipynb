{
 "cells": [
  {
   "cell_type": "code",
   "execution_count": 1,
   "metadata": {},
   "outputs": [],
   "source": [
    "import numpy as np"
   ]
  },
  {
   "cell_type": "code",
   "execution_count": 11,
   "metadata": {},
   "outputs": [],
   "source": [
    "XX = np.random.rand(10,3)\n",
    "m1 =np.random.rand(5,3)\n"
   ]
  },
  {
   "cell_type": "code",
   "execution_count": 12,
   "metadata": {},
   "outputs": [
    {
     "data": {
      "text/plain": [
       "array([[0.94725219, 0.67847005, 0.24898548],\n",
       "       [0.45214481, 0.87968738, 0.33823103],\n",
       "       [0.40255171, 0.92202386, 0.09666912],\n",
       "       [0.99123327, 0.40650496, 0.41983307],\n",
       "       [0.23210637, 0.0348797 , 0.16581731],\n",
       "       [0.03651871, 0.08293076, 0.94605779],\n",
       "       [0.83577931, 0.74971318, 0.01682849],\n",
       "       [0.04881244, 0.64158868, 0.93132987],\n",
       "       [0.08603097, 0.38922817, 0.65843193],\n",
       "       [0.19755821, 0.83380926, 0.93098382]])"
      ]
     },
     "execution_count": 12,
     "metadata": {},
     "output_type": "execute_result"
    }
   ],
   "source": [
    "XX"
   ]
  },
  {
   "cell_type": "code",
   "execution_count": 13,
   "metadata": {},
   "outputs": [
    {
     "data": {
      "text/plain": [
       "array([[0.12608857, 0.71897843, 0.33309326],\n",
       "       [0.52034759, 0.4650336 , 0.7769621 ],\n",
       "       [0.73987643, 0.55610078, 0.04262461],\n",
       "       [0.64866235, 0.56842973, 0.77155288],\n",
       "       [0.55214966, 0.20154129, 0.91267121]])"
      ]
     },
     "execution_count": 13,
     "metadata": {},
     "output_type": "execute_result"
    }
   ],
   "source": [
    "m1"
   ]
  },
  {
   "cell_type": "code",
   "execution_count": 21,
   "metadata": {},
   "outputs": [
    {
     "data": {
      "text/plain": [
       "array([[0.82645311, 0.71173167, 0.31711789, 0.61183449, 0.90776968],\n",
       "       [0.36354701, 0.60751488, 0.52429088, 0.56856687, 0.8943515 ],\n",
       "       [0.41660015, 0.82795804, 0.50060811, 0.80066681, 1.09878755],\n",
       "       [0.92392576, 0.59388558, 0.47733153, 0.51699255, 0.69115408],\n",
       "       [0.71218824, 0.8010077 , 0.73802323, 0.90835571, 0.82945436],\n",
       "       [0.88786537, 0.63928578, 1.23886782, 0.80055047, 0.53014941],\n",
       "       [0.77757892, 0.87082877, 0.21759726, 0.79842679, 1.08787517],\n",
       "       [0.60815114, 0.52663697, 1.1290149 , 0.62506066, 0.66883346],\n",
       "       [0.46495709, 0.45653782, 0.91355296, 0.60121844, 0.5631435 ],\n",
       "       [0.61299849, 0.51372285, 1.07722474, 0.54711924, 0.7251436 ]])"
      ]
     },
     "execution_count": 21,
     "metadata": {},
     "output_type": "execute_result"
    }
   ],
   "source": [
    "num_test,num_train = XX.shape[0], m1.shape[0]\n",
    "dists2 = np.zeros((num_test,num_train))\n",
    "#dists\n",
    "for i in range(num_test):\n",
    "    for j in range(num_train):\n",
    "        diff = XX[i]-m1[j]\n",
    "        dists2[i, j] = np.linalg.norm(diff, 2)\n",
    "dists2"
   ]
  },
  {
   "cell_type": "code",
   "execution_count": 45,
   "metadata": {},
   "outputs": [],
   "source": [
    "dists1 = np.zeros((num_test,num_train))\n",
    "for i in range(num_test):\n",
    "    dists1[i,:] = np.linalg.norm(XX[i]-m1, axis = 1, ord = 2)"
   ]
  },
  {
   "cell_type": "code",
   "execution_count": 52,
   "metadata": {},
   "outputs": [],
   "source": [
    "dists0 = np.zeros((num_test,num_train))"
   ]
  },
  {
   "cell_type": "code",
   "execution_count": 50,
   "metadata": {},
   "outputs": [
    {
     "data": {
      "text/plain": [
       "array([[0.94725219, 0.67847005, 0.24898548],\n",
       "       [0.45214481, 0.87968738, 0.33823103],\n",
       "       [0.40255171, 0.92202386, 0.09666912],\n",
       "       [0.99123327, 0.40650496, 0.41983307],\n",
       "       [0.23210637, 0.0348797 , 0.16581731],\n",
       "       [0.03651871, 0.08293076, 0.94605779],\n",
       "       [0.83577931, 0.74971318, 0.01682849],\n",
       "       [0.04881244, 0.64158868, 0.93132987],\n",
       "       [0.08603097, 0.38922817, 0.65843193],\n",
       "       [0.19755821, 0.83380926, 0.93098382]])"
      ]
     },
     "execution_count": 50,
     "metadata": {},
     "output_type": "execute_result"
    }
   ],
   "source": [
    "XX"
   ]
  },
  {
   "cell_type": "code",
   "execution_count": 55,
   "metadata": {},
   "outputs": [
    {
     "data": {
      "text/plain": [
       "array([[0.82645311, 0.71173167, 0.31711789, 0.61183449, 0.90776968],\n",
       "       [0.36354701, 0.60751488, 0.52429088, 0.56856687, 0.8943515 ],\n",
       "       [0.41660015, 0.82795804, 0.50060811, 0.80066681, 1.09878755],\n",
       "       [0.92392576, 0.59388558, 0.47733153, 0.51699255, 0.69115408],\n",
       "       [0.71218824, 0.8010077 , 0.73802323, 0.90835571, 0.82945436],\n",
       "       [0.88786537, 0.63928578, 1.23886782, 0.80055047, 0.53014941],\n",
       "       [0.77757892, 0.87082877, 0.21759726, 0.79842679, 1.08787517],\n",
       "       [0.60815114, 0.52663697, 1.1290149 , 0.62506066, 0.66883346],\n",
       "       [0.46495709, 0.45653782, 0.91355296, 0.60121844, 0.5631435 ],\n",
       "       [0.61299849, 0.51372285, 1.07722474, 0.54711924, 0.7251436 ]])"
      ]
     },
     "execution_count": 55,
     "metadata": {},
     "output_type": "execute_result"
    }
   ],
   "source": [
    "x2 = np.sum(XX**2, axis=1, keepdims=True)\n",
    "y2 = np.sum(m1**2, axis=1)\n",
    "xy = np.dot(XX, m1.T)\n",
    "dists0 = np.sqrt(x2 - 2*xy + y2)\n",
    "dists0"
   ]
  },
  {
   "cell_type": "code",
   "execution_count": 56,
   "metadata": {},
   "outputs": [
    {
     "data": {
      "text/plain": [
       "array([[1.41960209],\n",
       "       [1.09268503],\n",
       "       [1.02152079],\n",
       "       [1.32404949],\n",
       "       [0.08258534],\n",
       "       [0.90323648],\n",
       "       [1.2608801 ],\n",
       "       [1.28139401],\n",
       "       [0.59243251],\n",
       "       [1.600998  ]])"
      ]
     },
     "execution_count": 56,
     "metadata": {},
     "output_type": "execute_result"
    }
   ],
   "source": [
    "x2"
   ]
  },
  {
   "cell_type": "code",
   "execution_count": 39,
   "metadata": {},
   "outputs": [
    {
     "ename": "IndentationError",
     "evalue": "unindent does not match any outer indentation level (<tokenize>, line 50)",
     "output_type": "error",
     "traceback": [
      "\u001b[0;36m  File \u001b[0;32m\"<tokenize>\"\u001b[0;36m, line \u001b[0;32m50\u001b[0m\n\u001b[0;31m    def compute_distances_two_loops(self, X):\u001b[0m\n\u001b[0m    ^\u001b[0m\n\u001b[0;31mIndentationError\u001b[0m\u001b[0;31m:\u001b[0m unindent does not match any outer indentation level\n"
     ]
    }
   ],
   "source": [
    "import numpy as np\n",
    "import collections as cl\n",
    "class KNearestNeighbor(object):\n",
    "    \"\"\" \n",
    "    a kNN classifier with L2 distance \n",
    "    \"\"\"\n",
    "    def __init__(self):\n",
    "        pass\n",
    "    \n",
    "    def train(self, X, y): \n",
    "    \"\"\"\n",
    "    Train the classifier. For k-nearest neighbors this is just \n",
    "    memorizing the training data.\n",
    "\n",
    "    Inputs:\n",
    "    - X: A numpy array of shape (num_train, D) containing the training data\n",
    "      consisting of num_train samples each of dimension D.\n",
    "    - y: A numpy array of shape (num_train,) containing the training labels, where\n",
    "         y[i] is the label for X[i].\n",
    "    \"\"\"\n",
    "        self.X_train = X\n",
    "        self.y_train = y\n",
    "    \n",
    "    def predict(self, X, k=1, num_loops=0):\n",
    "\n",
    "    \"\"\"\n",
    "    Predict labels for test data using this classifier.\n",
    "\n",
    "    Inputs:\n",
    "    - X: A numpy array of shape (num_test, D) containing test data consisting\n",
    "         of num_test samples each of dimension D.\n",
    "    - k: The number of nearest neighbors that vote for the predicted labels.\n",
    "    - num_loops: Determines which implementation to use to compute distances\n",
    "      between training points and testing points.\n",
    "\n",
    "    Returns:\n",
    "    - y: A numpy array of shape (num_test,) containing predicted labels for the\n",
    "      test data, where y[i] is the predicted label for the test point X[i].  \n",
    "    \"\"\"\n",
    "        if num_loops == 0:\n",
    "            dists = self.compute_distances_no_loops(X)\n",
    "        elif num_loops == 1:\n",
    "            dists = self.compute_distances_one_loop(X)\n",
    "        elif num_loops == 2:\n",
    "            dists = self.compute_distances_two_loops(X)\n",
    "        else:\n",
    "            raise ValueError('Invalid value %d for num_loops' % num_loops)\n",
    "\n",
    "        return self.predict_labels(dists, k=k)\n",
    "\n",
    "    def compute_distances_two_loops(self, X):\n",
    "\n",
    "    \"\"\"\n",
    "    Compute the distance between each test point in X and each training point\n",
    "    in self.X_train using a nested loop over both the training data and the \n",
    "    test data.\n",
    "\n",
    "    Inputs:\n",
    "    - X: A numpy array of shape (num_test, D) containing test data.\n",
    "\n",
    "    Returns:\n",
    "    - dists: A numpy array of shape (num_test, num_train) where dists[i, j]\n",
    "      is the Euclidean distance between the ith test point and the jth training\n",
    "      point.\n",
    "    \"\"\"\n",
    "        num_test = X.shape[0]\n",
    "        num_train = self.X_train.shape[0]\n",
    "        dists = np.zeros((num_test, num_train))\n",
    "        for i in range(num_test):\n",
    "            for j in range(num_train):\n",
    "        #####################################################################\n",
    "        # TODO:                                                             #\n",
    "        # Compute the l2 distance between the ith test point and the jth    #\n",
    "        # training point, and store the result in dists[i, j]. You should   #\n",
    "        # not use a loop over dimension. 1 line of code expected            #\n",
    "        #####################################################################\n",
    "                dists[i, j] = np.linalg.norm(X[i]-self.X_train[j], 2)\n",
    "        #pass\n",
    "        #####################################################################\n",
    "        #           buckyball            END OF YOUR CODE                            #\n",
    "        #####################################################################\n",
    "        return dists\n",
    "\n",
    "  def compute_distances_one_loop(self, X):\n",
    "    \"\"\"\n",
    "    Compute the distance between each test point in X and each training point\n",
    "    in self.X_train using a single loop over the test data.\n",
    "\n",
    "    Input / Output: Same as compute_distances_two_loops\n",
    "    \"\"\"\n",
    "    num_test = X.shape[0]\n",
    "    num_train = self.X_train.shape[0]\n",
    "    dists = np.zeros((num_test, num_train))\n",
    "    for i in range(num_test):\n",
    "      #######################################################################\n",
    "      # TODO:                                                               #\n",
    "      # Compute the l2 distance between the ith test point and all training #\n",
    "      # points, and store the result in dists[i, :].                        #\n",
    "      #######################################################################\n",
    "      dists1[i,:] = np.linalg.norm(X[i]-self.X_train, axis = 1, ord = 2)\n",
    "      #pass\n",
    "      #######################################################################\n",
    "      #                         END OF YOUR CODE                            #\n",
    "      #######################################################################\n",
    "    return dists\n",
    "\n",
    "  def compute_distances_no_loops(self, X):\n",
    "        \n",
    "    \"\"\"\n",
    "    Compute the distance between each test point in X and each training point\n",
    "    in self.X_train using no explicit loops.\n",
    "\n",
    "    Input / Output: Same as compute_distances_two_loops\n",
    "    \"\"\"\n",
    "    num_test = X.shape[0]\n",
    "    num_train = self.X_train.shape[0]\n",
    "    dists = np.zeros((num_test, num_train)) \n",
    "    #########################################################################\n",
    "    # TODO:                                                                 #\n",
    "    # Compute the l2 distance between all test points and all training      #\n",
    "    # points without using any explicit loops, and store the result in      #\n",
    "    # dists.                                                                #\n",
    "    #                                                                       #\n",
    "    # You should implement this function using only basic array operations; #\n",
    "    # in particular you should not use functions from scipy.                #\n",
    "    #                                                                       #\n",
    "    # HINT: Try to formulate the l2 distance using matrix multiplication    #\n",
    "    #       and two broadcast sums.                                         #\n",
    "    ##########################################################################\n",
    "    x2 = np.sum(X**2, axis=1, keepdims=True)\n",
    "    y2 = np.sum(self.X_train**2, axis=1)\n",
    "    xy = np.dot(X, self.X_train.T)\n",
    "    dists = np.sqrt(x2 - 2*xy + y2)\n",
    "    #pass\n",
    "    #########################################################################\n",
    "    #                         END OF YOUR CODE                              #\n",
    "    #########################################################################\n",
    "    return dists\n",
    "\n",
    "  def predict_labels(self, dists, k=1):\n",
    "    \"\"\"\n",
    "    Given a matrix of distances between test points and training points,\n",
    "    predict a label for each test point.\n",
    "\n",
    "    Inputs:\n",
    "    - dists: A numpy array of shape (num_test, num_train) where dists[i, j]\n",
    "      gives the distance betwen the ith test point and the jth training point.\n",
    "\n",
    "    Returns:\n",
    "    - y: A numpy array of shape (num_test,) containing predicted labels for the\n",
    "      test data, where y[i] is the predicted label for the test point X[i].  \n",
    "    \"\"\"\n",
    "    num_test = dists.shape[0]\n",
    "    y_pred = np.zeros(num_test)\n",
    "    for i in range(num_test):\n",
    "      # A list of length k storing the labels of the k nearest neighbors to\n",
    "      # the ith test point.\n",
    "        \n",
    "        closest_y = []\n",
    "      #########################################################################\n",
    "      # TODO:                                                                 #\n",
    "      # Use the distance matrix to find the k nearest neighbors of the ith    #\n",
    "      # testing point, and use self.y_train to find the labels of these       #\n",
    "      # neighbors. Store these labels in closest_y.                           #\n",
    "      # Hint: Look up the function numpy.argsort.                             #\n",
    "      #########################################################################\n",
    "       closest_y = self.y_train[np.argsort(dists[i])[0:k]]      \n",
    "      #########################################################################\n",
    "      # TODO:                                                                 #\n",
    "      # Now that you have found the labels of the k nearest neighbors, you    #\n",
    "      # need to find the most common label in the list closest_y of labels.   #\n",
    "      # Store this label in y_pred[i]. Break ties by choosing the smaller     #\n",
    "      # label.                                                                #\n",
    "      #########################################################################\n",
    "        y_pred[i] = np.argmax(np.bincount(closest_y))\n",
    "      #pass\n",
    "      #########################################################################\n",
    "      #                           END OF YOUR CODE                            #\n",
    "      #########################################################################\n",
    "\n",
    "    return y_pred\n"
   ]
  }
 ],
 "metadata": {
  "kernelspec": {
   "display_name": "Python 3",
   "language": "python",
   "name": "python3"
  },
  "language_info": {
   "codemirror_mode": {
    "name": "ipython",
    "version": 3
   },
   "file_extension": ".py",
   "mimetype": "text/x-python",
   "name": "python",
   "nbconvert_exporter": "python",
   "pygments_lexer": "ipython3",
   "version": "3.7.6"
  }
 },
 "nbformat": 4,
 "nbformat_minor": 4
}
